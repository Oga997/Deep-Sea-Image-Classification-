{
 "cells": [
  {
   "cell_type": "code",
   "execution_count": 4,
   "id": "2da0b113",
   "metadata": {},
   "outputs": [],
   "source": [
    "import numpy as np\n",
    "import pandas as pd\n",
    "import tensorflow as tf\n",
    "from tensorflow.keras.models import Sequential\n",
    "from tensorflow.keras.layers import Conv2D, MaxPooling2D, Flatten, Dense, Dropout\n",
    "from tensorflow.keras import layers, models\n",
    "import keras.utils as image\n",
    "from ast import literal_eval\n",
    "from keras.utils import pad_sequences\n",
    "from tqdm import tqdm\n",
    "import glob,os,json\n",
    "import requests\n",
    "import matplotlib.pyplot as plt\n",
    "import urllib.request, io\n",
    "from PIL import Image,ImageDraw\n",
    "from io import BytesIO\n",
    "from PIL import ImageFile\n",
    "ImageFile.LOAD_TRUNCATED_IMAGES = True"
   ]
  },
  {
   "cell_type": "code",
   "execution_count": 5,
   "id": "60471c25",
   "metadata": {},
   "outputs": [
    {
     "data": {
      "text/html": [
       "<div>\n",
       "<style scoped>\n",
       "    .dataframe tbody tr th:only-of-type {\n",
       "        vertical-align: middle;\n",
       "    }\n",
       "\n",
       "    .dataframe tbody tr th {\n",
       "        vertical-align: top;\n",
       "    }\n",
       "\n",
       "    .dataframe thead th {\n",
       "        text-align: right;\n",
       "    }\n",
       "</style>\n",
       "<table border=\"1\" class=\"dataframe\">\n",
       "  <thead>\n",
       "    <tr style=\"text-align: right;\">\n",
       "      <th></th>\n",
       "      <th>id</th>\n",
       "      <th>categories</th>\n",
       "    </tr>\n",
       "  </thead>\n",
       "  <tbody>\n",
       "    <tr>\n",
       "      <th>0</th>\n",
       "      <td>3b6f01ae-5bde-434d-9b06-79b269421ed6</td>\n",
       "      <td>[1.0]</td>\n",
       "    </tr>\n",
       "    <tr>\n",
       "      <th>1</th>\n",
       "      <td>dce21f7c-20e5-482b-bd90-c038f8464c03</td>\n",
       "      <td>[1.0]</td>\n",
       "    </tr>\n",
       "    <tr>\n",
       "      <th>2</th>\n",
       "      <td>4a7f2199-772d-486d-b8e2-b651246316b5</td>\n",
       "      <td>[1.0]</td>\n",
       "    </tr>\n",
       "    <tr>\n",
       "      <th>3</th>\n",
       "      <td>3bddedf6-4ff8-4e81-876a-564d2b03b364</td>\n",
       "      <td>[1.0, 9.0, 11.0, 88.0]</td>\n",
       "    </tr>\n",
       "    <tr>\n",
       "      <th>4</th>\n",
       "      <td>3f735021-f5de-4168-b139-74bf2859d12a</td>\n",
       "      <td>[1.0, 37.0, 51.0, 119.0]</td>\n",
       "    </tr>\n",
       "    <tr>\n",
       "      <th>...</th>\n",
       "      <td>...</td>\n",
       "      <td>...</td>\n",
       "    </tr>\n",
       "    <tr>\n",
       "      <th>5945</th>\n",
       "      <td>701715fe-b278-4310-ac1d-cca8ddacc830</td>\n",
       "      <td>[283.0]</td>\n",
       "    </tr>\n",
       "    <tr>\n",
       "      <th>5946</th>\n",
       "      <td>45e73fdd-d8a2-4ee1-abc7-3e34d2dfa82a</td>\n",
       "      <td>[283.0]</td>\n",
       "    </tr>\n",
       "    <tr>\n",
       "      <th>5947</th>\n",
       "      <td>676b982a-deeb-46ee-b47d-8a97a1b0c76c</td>\n",
       "      <td>[283.0]</td>\n",
       "    </tr>\n",
       "    <tr>\n",
       "      <th>5948</th>\n",
       "      <td>7e09c9a9-72e5-4374-9ed6-dae1ee2ea33d</td>\n",
       "      <td>[286.0]</td>\n",
       "    </tr>\n",
       "    <tr>\n",
       "      <th>5949</th>\n",
       "      <td>06acea78-c8b5-48fe-8678-cb24458ebc6a</td>\n",
       "      <td>[286.0]</td>\n",
       "    </tr>\n",
       "  </tbody>\n",
       "</table>\n",
       "<p>5950 rows × 2 columns</p>\n",
       "</div>"
      ],
      "text/plain": [
       "                                        id                categories\n",
       "0     3b6f01ae-5bde-434d-9b06-79b269421ed6                     [1.0]\n",
       "1     dce21f7c-20e5-482b-bd90-c038f8464c03                     [1.0]\n",
       "2     4a7f2199-772d-486d-b8e2-b651246316b5                     [1.0]\n",
       "3     3bddedf6-4ff8-4e81-876a-564d2b03b364    [1.0, 9.0, 11.0, 88.0]\n",
       "4     3f735021-f5de-4168-b139-74bf2859d12a  [1.0, 37.0, 51.0, 119.0]\n",
       "...                                    ...                       ...\n",
       "5945  701715fe-b278-4310-ac1d-cca8ddacc830                   [283.0]\n",
       "5946  45e73fdd-d8a2-4ee1-abc7-3e34d2dfa82a                   [283.0]\n",
       "5947  676b982a-deeb-46ee-b47d-8a97a1b0c76c                   [283.0]\n",
       "5948  7e09c9a9-72e5-4374-9ed6-dae1ee2ea33d                   [286.0]\n",
       "5949  06acea78-c8b5-48fe-8678-cb24458ebc6a                   [286.0]\n",
       "\n",
       "[5950 rows x 2 columns]"
      ]
     },
     "execution_count": 5,
     "metadata": {},
     "output_type": "execute_result"
    }
   ],
   "source": [
    "train=pd.read_csv('Data/multilabel_classification/train.csv')\n",
    "train"
   ]
  },
  {
   "cell_type": "code",
   "execution_count": 6,
   "id": "dd8b7288",
   "metadata": {},
   "outputs": [
    {
     "data": {
      "text/html": [
       "<div>\n",
       "<style scoped>\n",
       "    .dataframe tbody tr th:only-of-type {\n",
       "        vertical-align: middle;\n",
       "    }\n",
       "\n",
       "    .dataframe tbody tr th {\n",
       "        vertical-align: top;\n",
       "    }\n",
       "\n",
       "    .dataframe thead th {\n",
       "        text-align: right;\n",
       "    }\n",
       "</style>\n",
       "<table border=\"1\" class=\"dataframe\">\n",
       "  <thead>\n",
       "    <tr style=\"text-align: right;\">\n",
       "      <th></th>\n",
       "      <th>id</th>\n",
       "      <th>name</th>\n",
       "      <th>supercat</th>\n",
       "    </tr>\n",
       "  </thead>\n",
       "  <tbody>\n",
       "    <tr>\n",
       "      <th>0</th>\n",
       "      <td>1</td>\n",
       "      <td>Actiniaria</td>\n",
       "      <td>Anemone</td>\n",
       "    </tr>\n",
       "    <tr>\n",
       "      <th>1</th>\n",
       "      <td>2</td>\n",
       "      <td>Actinernus</td>\n",
       "      <td>Anemone</td>\n",
       "    </tr>\n",
       "    <tr>\n",
       "      <th>2</th>\n",
       "      <td>3</td>\n",
       "      <td>Actiniidae</td>\n",
       "      <td>Anemone</td>\n",
       "    </tr>\n",
       "    <tr>\n",
       "      <th>3</th>\n",
       "      <td>4</td>\n",
       "      <td>Actinoscyphia</td>\n",
       "      <td>Anemone</td>\n",
       "    </tr>\n",
       "    <tr>\n",
       "      <th>4</th>\n",
       "      <td>5</td>\n",
       "      <td>Bolocera</td>\n",
       "      <td>Anemone</td>\n",
       "    </tr>\n",
       "    <tr>\n",
       "      <th>...</th>\n",
       "      <td>...</td>\n",
       "      <td>...</td>\n",
       "      <td>...</td>\n",
       "    </tr>\n",
       "    <tr>\n",
       "      <th>285</th>\n",
       "      <td>286</td>\n",
       "      <td>Polychaeta</td>\n",
       "      <td>Worm</td>\n",
       "    </tr>\n",
       "    <tr>\n",
       "      <th>286</th>\n",
       "      <td>287</td>\n",
       "      <td>Polynoidae</td>\n",
       "      <td>Worm</td>\n",
       "    </tr>\n",
       "    <tr>\n",
       "      <th>287</th>\n",
       "      <td>288</td>\n",
       "      <td>Sabellidae</td>\n",
       "      <td>Worm</td>\n",
       "    </tr>\n",
       "    <tr>\n",
       "      <th>288</th>\n",
       "      <td>289</td>\n",
       "      <td>Serpulidae</td>\n",
       "      <td>Worm</td>\n",
       "    </tr>\n",
       "    <tr>\n",
       "      <th>289</th>\n",
       "      <td>290</td>\n",
       "      <td>Terebellidae</td>\n",
       "      <td>Worm</td>\n",
       "    </tr>\n",
       "  </tbody>\n",
       "</table>\n",
       "<p>290 rows × 3 columns</p>\n",
       "</div>"
      ],
      "text/plain": [
       "      id           name supercat\n",
       "0      1     Actiniaria  Anemone\n",
       "1      2     Actinernus  Anemone\n",
       "2      3     Actiniidae  Anemone\n",
       "3      4  Actinoscyphia  Anemone\n",
       "4      5       Bolocera  Anemone\n",
       "..   ...            ...      ...\n",
       "285  286     Polychaeta     Worm\n",
       "286  287     Polynoidae     Worm\n",
       "287  288     Sabellidae     Worm\n",
       "288  289     Serpulidae     Worm\n",
       "289  290   Terebellidae     Worm\n",
       "\n",
       "[290 rows x 3 columns]"
      ]
     },
     "execution_count": 6,
     "metadata": {},
     "output_type": "execute_result"
    }
   ],
   "source": [
    "df_categ=pd.read_csv('Data/category_key.csv')\n",
    "df_categ"
   ]
  },
  {
   "cell_type": "code",
   "execution_count": 7,
   "id": "77131be4",
   "metadata": {},
   "outputs": [
    {
     "data": {
      "text/plain": [
       "290"
      ]
     },
     "execution_count": 7,
     "metadata": {},
     "output_type": "execute_result"
    }
   ],
   "source": [
    "len(set(df_categ['name']))"
   ]
  },
  {
   "cell_type": "code",
   "execution_count": 8,
   "id": "d268497d",
   "metadata": {},
   "outputs": [],
   "source": [
    "path = r'Data/images/' # use your path\n",
    "pred_files = glob.glob(os.path.join(path, \"*.png\"))\n",
    "ls=[]\n",
    "for file in pred_files:\n",
    "    filename = os.path.splitext(os.path.basename(file))[0]\n",
    "    ls.append(filename)\n",
    "    df_name=pd.DataFrame({'id':ls})"
   ]
  },
  {
   "cell_type": "code",
   "execution_count": 9,
   "id": "12b541aa",
   "metadata": {},
   "outputs": [
    {
     "data": {
      "text/html": [
       "<div>\n",
       "<style scoped>\n",
       "    .dataframe tbody tr th:only-of-type {\n",
       "        vertical-align: middle;\n",
       "    }\n",
       "\n",
       "    .dataframe tbody tr th {\n",
       "        vertical-align: top;\n",
       "    }\n",
       "\n",
       "    .dataframe thead th {\n",
       "        text-align: right;\n",
       "    }\n",
       "</style>\n",
       "<table border=\"1\" class=\"dataframe\">\n",
       "  <thead>\n",
       "    <tr style=\"text-align: right;\">\n",
       "      <th></th>\n",
       "      <th>id</th>\n",
       "      <th>categories</th>\n",
       "    </tr>\n",
       "  </thead>\n",
       "  <tbody>\n",
       "    <tr>\n",
       "      <th>0</th>\n",
       "      <td>3b6f01ae-5bde-434d-9b06-79b269421ed6</td>\n",
       "      <td>[1.0]</td>\n",
       "    </tr>\n",
       "    <tr>\n",
       "      <th>1</th>\n",
       "      <td>dce21f7c-20e5-482b-bd90-c038f8464c03</td>\n",
       "      <td>[1.0]</td>\n",
       "    </tr>\n",
       "    <tr>\n",
       "      <th>2</th>\n",
       "      <td>4a7f2199-772d-486d-b8e2-b651246316b5</td>\n",
       "      <td>[1.0]</td>\n",
       "    </tr>\n",
       "    <tr>\n",
       "      <th>3</th>\n",
       "      <td>3bddedf6-4ff8-4e81-876a-564d2b03b364</td>\n",
       "      <td>[1.0, 9.0, 11.0, 88.0]</td>\n",
       "    </tr>\n",
       "    <tr>\n",
       "      <th>4</th>\n",
       "      <td>3f735021-f5de-4168-b139-74bf2859d12a</td>\n",
       "      <td>[1.0, 37.0, 51.0, 119.0]</td>\n",
       "    </tr>\n",
       "    <tr>\n",
       "      <th>...</th>\n",
       "      <td>...</td>\n",
       "      <td>...</td>\n",
       "    </tr>\n",
       "    <tr>\n",
       "      <th>133</th>\n",
       "      <td>53b0e247-00d0-4f5d-9928-357cff757237</td>\n",
       "      <td>[1.0, 52.0, 211.0]</td>\n",
       "    </tr>\n",
       "    <tr>\n",
       "      <th>134</th>\n",
       "      <td>dba29b41-55eb-4ce4-b5a7-5f82c0c1ed6a</td>\n",
       "      <td>[1.0, 52.0, 88.0, 146.0]</td>\n",
       "    </tr>\n",
       "    <tr>\n",
       "      <th>135</th>\n",
       "      <td>7fa334d6-b271-49e1-b2d3-bc9365888fff</td>\n",
       "      <td>[1.0, 61.0, 107.0]</td>\n",
       "    </tr>\n",
       "    <tr>\n",
       "      <th>136</th>\n",
       "      <td>75e8e2a8-cee9-498d-883b-ef002f56bdad</td>\n",
       "      <td>[1.0, 8.0, 243.0]</td>\n",
       "    </tr>\n",
       "    <tr>\n",
       "      <th>137</th>\n",
       "      <td>4b5fd739-1e3a-4a26-8da7-d35d93dd97de</td>\n",
       "      <td>[1.0, 195.0]</td>\n",
       "    </tr>\n",
       "  </tbody>\n",
       "</table>\n",
       "<p>138 rows × 2 columns</p>\n",
       "</div>"
      ],
      "text/plain": [
       "                                       id                categories\n",
       "0    3b6f01ae-5bde-434d-9b06-79b269421ed6                     [1.0]\n",
       "1    dce21f7c-20e5-482b-bd90-c038f8464c03                     [1.0]\n",
       "2    4a7f2199-772d-486d-b8e2-b651246316b5                     [1.0]\n",
       "3    3bddedf6-4ff8-4e81-876a-564d2b03b364    [1.0, 9.0, 11.0, 88.0]\n",
       "4    3f735021-f5de-4168-b139-74bf2859d12a  [1.0, 37.0, 51.0, 119.0]\n",
       "..                                    ...                       ...\n",
       "133  53b0e247-00d0-4f5d-9928-357cff757237        [1.0, 52.0, 211.0]\n",
       "134  dba29b41-55eb-4ce4-b5a7-5f82c0c1ed6a  [1.0, 52.0, 88.0, 146.0]\n",
       "135  7fa334d6-b271-49e1-b2d3-bc9365888fff        [1.0, 61.0, 107.0]\n",
       "136  75e8e2a8-cee9-498d-883b-ef002f56bdad         [1.0, 8.0, 243.0]\n",
       "137  4b5fd739-1e3a-4a26-8da7-d35d93dd97de              [1.0, 195.0]\n",
       "\n",
       "[138 rows x 2 columns]"
      ]
     },
     "execution_count": 9,
     "metadata": {},
     "output_type": "execute_result"
    }
   ],
   "source": [
    "df_train=train[train['id'].isin(df_name['id'])]\n",
    "df_train"
   ]
  },
  {
   "cell_type": "code",
   "execution_count": 10,
   "id": "da7fa6e6",
   "metadata": {},
   "outputs": [],
   "source": [
    "# # apply function to each element of DataFrame\n",
    "# df_train['categories'] = df_train['categories'].str.strip('[]')\n",
    "# df_train['categories'] = df_train['categories'].str.replace(',','')"
   ]
  },
  {
   "cell_type": "code",
   "execution_count": 11,
   "id": "e4b61db1",
   "metadata": {},
   "outputs": [],
   "source": [
    "f = open('Data/object_detection/train.json')\n",
    "dict_train = json.load(f)"
   ]
  },
  {
   "cell_type": "code",
   "execution_count": 12,
   "id": "e1b2052c",
   "metadata": {},
   "outputs": [
    {
     "data": {
      "text/html": [
       "<div>\n",
       "<style scoped>\n",
       "    .dataframe tbody tr th:only-of-type {\n",
       "        vertical-align: middle;\n",
       "    }\n",
       "\n",
       "    .dataframe tbody tr th {\n",
       "        vertical-align: top;\n",
       "    }\n",
       "\n",
       "    .dataframe thead th {\n",
       "        text-align: right;\n",
       "    }\n",
       "</style>\n",
       "<table border=\"1\" class=\"dataframe\">\n",
       "  <thead>\n",
       "    <tr style=\"text-align: right;\">\n",
       "      <th></th>\n",
       "      <th>id</th>\n",
       "      <th>width</th>\n",
       "      <th>height</th>\n",
       "      <th>file_name</th>\n",
       "      <th>flickr_url</th>\n",
       "      <th>coco_url</th>\n",
       "      <th>date_captured</th>\n",
       "    </tr>\n",
       "  </thead>\n",
       "  <tbody>\n",
       "    <tr>\n",
       "      <th>0</th>\n",
       "      <td>1</td>\n",
       "      <td>720</td>\n",
       "      <td>368</td>\n",
       "      <td>3b6f01ae-5bde-434d-9b06-79b269421ed6.png</td>\n",
       "      <td>https://fathomnet.org/static/m3/framegrabs/Tib...</td>\n",
       "      <td>https://fathomnet.org/static/m3/framegrabs/Tib...</td>\n",
       "      <td>2007-08-17 17:50:34</td>\n",
       "    </tr>\n",
       "    <tr>\n",
       "      <th>1</th>\n",
       "      <td>2</td>\n",
       "      <td>720</td>\n",
       "      <td>368</td>\n",
       "      <td>dce21f7c-20e5-482b-bd90-c038f8464c03.png</td>\n",
       "      <td>https://fathomnet.org/static/m3/framegrabs/Tib...</td>\n",
       "      <td>https://fathomnet.org/static/m3/framegrabs/Tib...</td>\n",
       "      <td>2007-08-17 17:50:38</td>\n",
       "    </tr>\n",
       "    <tr>\n",
       "      <th>2</th>\n",
       "      <td>3</td>\n",
       "      <td>720</td>\n",
       "      <td>368</td>\n",
       "      <td>4a7f2199-772d-486d-b8e2-b651246316b5.png</td>\n",
       "      <td>https://fathomnet.org/static/m3/framegrabs/Tib...</td>\n",
       "      <td>https://fathomnet.org/static/m3/framegrabs/Tib...</td>\n",
       "      <td>2007-08-17 17:50:44</td>\n",
       "    </tr>\n",
       "    <tr>\n",
       "      <th>3</th>\n",
       "      <td>4</td>\n",
       "      <td>720</td>\n",
       "      <td>368</td>\n",
       "      <td>3bddedf6-4ff8-4e81-876a-564d2b03b364.png</td>\n",
       "      <td>https://fathomnet.org/static/m3/framegrabs/Ven...</td>\n",
       "      <td>https://fathomnet.org/static/m3/framegrabs/Ven...</td>\n",
       "      <td>2007-08-28 17:54:14</td>\n",
       "    </tr>\n",
       "    <tr>\n",
       "      <th>4</th>\n",
       "      <td>5</td>\n",
       "      <td>720</td>\n",
       "      <td>369</td>\n",
       "      <td>3f735021-f5de-4168-b139-74bf2859d12a.png</td>\n",
       "      <td>https://fathomnet.org/static/m3/framegrabs/Ven...</td>\n",
       "      <td>https://fathomnet.org/static/m3/framegrabs/Ven...</td>\n",
       "      <td>2007-08-28 19:00:00</td>\n",
       "    </tr>\n",
       "  </tbody>\n",
       "</table>\n",
       "</div>"
      ],
      "text/plain": [
       "   id  width  height                                 file_name   \n",
       "0   1    720     368  3b6f01ae-5bde-434d-9b06-79b269421ed6.png  \\\n",
       "1   2    720     368  dce21f7c-20e5-482b-bd90-c038f8464c03.png   \n",
       "2   3    720     368  4a7f2199-772d-486d-b8e2-b651246316b5.png   \n",
       "3   4    720     368  3bddedf6-4ff8-4e81-876a-564d2b03b364.png   \n",
       "4   5    720     369  3f735021-f5de-4168-b139-74bf2859d12a.png   \n",
       "\n",
       "                                          flickr_url   \n",
       "0  https://fathomnet.org/static/m3/framegrabs/Tib...  \\\n",
       "1  https://fathomnet.org/static/m3/framegrabs/Tib...   \n",
       "2  https://fathomnet.org/static/m3/framegrabs/Tib...   \n",
       "3  https://fathomnet.org/static/m3/framegrabs/Ven...   \n",
       "4  https://fathomnet.org/static/m3/framegrabs/Ven...   \n",
       "\n",
       "                                            coco_url        date_captured  \n",
       "0  https://fathomnet.org/static/m3/framegrabs/Tib...  2007-08-17 17:50:34  \n",
       "1  https://fathomnet.org/static/m3/framegrabs/Tib...  2007-08-17 17:50:38  \n",
       "2  https://fathomnet.org/static/m3/framegrabs/Tib...  2007-08-17 17:50:44  \n",
       "3  https://fathomnet.org/static/m3/framegrabs/Ven...  2007-08-28 17:54:14  \n",
       "4  https://fathomnet.org/static/m3/framegrabs/Ven...  2007-08-28 19:00:00  "
      ]
     },
     "execution_count": 12,
     "metadata": {},
     "output_type": "execute_result"
    }
   ],
   "source": [
    "df_train_images = pd.json_normalize(dict_train['images'])\n",
    "# we can remove \"license\" as this is always 0\n",
    "df_train_images.drop(['license'], axis=1, inplace=True)\n",
    "# show preview\n",
    "df_train_images.head(5)"
   ]
  },
  {
   "cell_type": "code",
   "execution_count": 13,
   "id": "68d089af",
   "metadata": {},
   "outputs": [
    {
     "data": {
      "text/plain": [
       "5950"
      ]
     },
     "execution_count": 13,
     "metadata": {},
     "output_type": "execute_result"
    }
   ],
   "source": [
    "len(df_train_images)"
   ]
  },
  {
   "cell_type": "code",
   "execution_count": 14,
   "id": "9a02b484",
   "metadata": {},
   "outputs": [
    {
     "data": {
      "text/html": [
       "<div>\n",
       "<style scoped>\n",
       "    .dataframe tbody tr th:only-of-type {\n",
       "        vertical-align: middle;\n",
       "    }\n",
       "\n",
       "    .dataframe tbody tr th {\n",
       "        vertical-align: top;\n",
       "    }\n",
       "\n",
       "    .dataframe thead th {\n",
       "        text-align: right;\n",
       "    }\n",
       "</style>\n",
       "<table border=\"1\" class=\"dataframe\">\n",
       "  <thead>\n",
       "    <tr style=\"text-align: right;\">\n",
       "      <th></th>\n",
       "      <th>id</th>\n",
       "      <th>width</th>\n",
       "      <th>height</th>\n",
       "      <th>file_name</th>\n",
       "      <th>flickr_url</th>\n",
       "      <th>coco_url</th>\n",
       "      <th>date_captured</th>\n",
       "      <th>id_file</th>\n",
       "    </tr>\n",
       "  </thead>\n",
       "  <tbody>\n",
       "    <tr>\n",
       "      <th>0</th>\n",
       "      <td>1</td>\n",
       "      <td>720</td>\n",
       "      <td>368</td>\n",
       "      <td>3b6f01ae-5bde-434d-9b06-79b269421ed6.png</td>\n",
       "      <td>https://fathomnet.org/static/m3/framegrabs/Tib...</td>\n",
       "      <td>https://fathomnet.org/static/m3/framegrabs/Tib...</td>\n",
       "      <td>2007-08-17 17:50:34</td>\n",
       "      <td>3b6f01ae-5bde-434d-9b06-79b269421ed6</td>\n",
       "    </tr>\n",
       "    <tr>\n",
       "      <th>1</th>\n",
       "      <td>2</td>\n",
       "      <td>720</td>\n",
       "      <td>368</td>\n",
       "      <td>dce21f7c-20e5-482b-bd90-c038f8464c03.png</td>\n",
       "      <td>https://fathomnet.org/static/m3/framegrabs/Tib...</td>\n",
       "      <td>https://fathomnet.org/static/m3/framegrabs/Tib...</td>\n",
       "      <td>2007-08-17 17:50:38</td>\n",
       "      <td>dce21f7c-20e5-482b-bd90-c038f8464c03</td>\n",
       "    </tr>\n",
       "  </tbody>\n",
       "</table>\n",
       "</div>"
      ],
      "text/plain": [
       "   id  width  height                                 file_name   \n",
       "0   1    720     368  3b6f01ae-5bde-434d-9b06-79b269421ed6.png  \\\n",
       "1   2    720     368  dce21f7c-20e5-482b-bd90-c038f8464c03.png   \n",
       "\n",
       "                                          flickr_url   \n",
       "0  https://fathomnet.org/static/m3/framegrabs/Tib...  \\\n",
       "1  https://fathomnet.org/static/m3/framegrabs/Tib...   \n",
       "\n",
       "                                            coco_url        date_captured   \n",
       "0  https://fathomnet.org/static/m3/framegrabs/Tib...  2007-08-17 17:50:34  \\\n",
       "1  https://fathomnet.org/static/m3/framegrabs/Tib...  2007-08-17 17:50:38   \n",
       "\n",
       "                                id_file  \n",
       "0  3b6f01ae-5bde-434d-9b06-79b269421ed6  \n",
       "1  dce21f7c-20e5-482b-bd90-c038f8464c03  "
      ]
     },
     "execution_count": 14,
     "metadata": {},
     "output_type": "execute_result"
    }
   ],
   "source": [
    "def drop_suffix(i_str):\n",
    "    length = len(i_str)\n",
    "    return i_str[0:(length-4)]\n",
    "\n",
    "# add filename-based id to image table in order to be able to join with df_train\n",
    "df_train_images['id_file'] = df_train_images.file_name.apply(drop_suffix)\n",
    "df_train_images.head(2)"
   ]
  },
  {
   "cell_type": "code",
   "execution_count": 15,
   "id": "3942058e",
   "metadata": {},
   "outputs": [
    {
     "data": {
      "text/html": [
       "<div>\n",
       "<style scoped>\n",
       "    .dataframe tbody tr th:only-of-type {\n",
       "        vertical-align: middle;\n",
       "    }\n",
       "\n",
       "    .dataframe tbody tr th {\n",
       "        vertical-align: top;\n",
       "    }\n",
       "\n",
       "    .dataframe thead th {\n",
       "        text-align: right;\n",
       "    }\n",
       "</style>\n",
       "<table border=\"1\" class=\"dataframe\">\n",
       "  <thead>\n",
       "    <tr style=\"text-align: right;\">\n",
       "      <th></th>\n",
       "      <th>id</th>\n",
       "      <th>categories</th>\n",
       "    </tr>\n",
       "  </thead>\n",
       "  <tbody>\n",
       "    <tr>\n",
       "      <th>0</th>\n",
       "      <td>3b6f01ae-5bde-434d-9b06-79b269421ed6</td>\n",
       "      <td>[1.0]</td>\n",
       "    </tr>\n",
       "    <tr>\n",
       "      <th>1</th>\n",
       "      <td>dce21f7c-20e5-482b-bd90-c038f8464c03</td>\n",
       "      <td>[1.0]</td>\n",
       "    </tr>\n",
       "    <tr>\n",
       "      <th>2</th>\n",
       "      <td>4a7f2199-772d-486d-b8e2-b651246316b5</td>\n",
       "      <td>[1.0]</td>\n",
       "    </tr>\n",
       "    <tr>\n",
       "      <th>3</th>\n",
       "      <td>3bddedf6-4ff8-4e81-876a-564d2b03b364</td>\n",
       "      <td>[1.0, 9.0, 11.0, 88.0]</td>\n",
       "    </tr>\n",
       "    <tr>\n",
       "      <th>4</th>\n",
       "      <td>3f735021-f5de-4168-b139-74bf2859d12a</td>\n",
       "      <td>[1.0, 37.0, 51.0, 119.0]</td>\n",
       "    </tr>\n",
       "    <tr>\n",
       "      <th>...</th>\n",
       "      <td>...</td>\n",
       "      <td>...</td>\n",
       "    </tr>\n",
       "    <tr>\n",
       "      <th>5945</th>\n",
       "      <td>701715fe-b278-4310-ac1d-cca8ddacc830</td>\n",
       "      <td>[283.0]</td>\n",
       "    </tr>\n",
       "    <tr>\n",
       "      <th>5946</th>\n",
       "      <td>45e73fdd-d8a2-4ee1-abc7-3e34d2dfa82a</td>\n",
       "      <td>[283.0]</td>\n",
       "    </tr>\n",
       "    <tr>\n",
       "      <th>5947</th>\n",
       "      <td>676b982a-deeb-46ee-b47d-8a97a1b0c76c</td>\n",
       "      <td>[283.0]</td>\n",
       "    </tr>\n",
       "    <tr>\n",
       "      <th>5948</th>\n",
       "      <td>7e09c9a9-72e5-4374-9ed6-dae1ee2ea33d</td>\n",
       "      <td>[286.0]</td>\n",
       "    </tr>\n",
       "    <tr>\n",
       "      <th>5949</th>\n",
       "      <td>06acea78-c8b5-48fe-8678-cb24458ebc6a</td>\n",
       "      <td>[286.0]</td>\n",
       "    </tr>\n",
       "  </tbody>\n",
       "</table>\n",
       "<p>5950 rows × 2 columns</p>\n",
       "</div>"
      ],
      "text/plain": [
       "                                        id                categories\n",
       "0     3b6f01ae-5bde-434d-9b06-79b269421ed6                     [1.0]\n",
       "1     dce21f7c-20e5-482b-bd90-c038f8464c03                     [1.0]\n",
       "2     4a7f2199-772d-486d-b8e2-b651246316b5                     [1.0]\n",
       "3     3bddedf6-4ff8-4e81-876a-564d2b03b364    [1.0, 9.0, 11.0, 88.0]\n",
       "4     3f735021-f5de-4168-b139-74bf2859d12a  [1.0, 37.0, 51.0, 119.0]\n",
       "...                                    ...                       ...\n",
       "5945  701715fe-b278-4310-ac1d-cca8ddacc830                   [283.0]\n",
       "5946  45e73fdd-d8a2-4ee1-abc7-3e34d2dfa82a                   [283.0]\n",
       "5947  676b982a-deeb-46ee-b47d-8a97a1b0c76c                   [283.0]\n",
       "5948  7e09c9a9-72e5-4374-9ed6-dae1ee2ea33d                   [286.0]\n",
       "5949  06acea78-c8b5-48fe-8678-cb24458ebc6a                   [286.0]\n",
       "\n",
       "[5950 rows x 2 columns]"
      ]
     },
     "execution_count": 15,
     "metadata": {},
     "output_type": "execute_result"
    }
   ],
   "source": [
    "df_train=train[train['id'].isin(df_train_images['id_file'])]\n",
    "df_train"
   ]
  },
  {
   "cell_type": "code",
   "execution_count": 2,
   "id": "94729b47",
   "metadata": {
    "scrolled": true
   },
   "outputs": [],
   "source": [
    "# import keras.utils as image\n",
    "\n",
    "# train_image = []\n",
    "# count=0\n",
    "# for link in df_train_images['flickr_url']:\n",
    "#     response = requests.get(link)\n",
    "#     img = Image.open(BytesIO(response.content))\n",
    "#     img = img.resize((300, 300))\n",
    "#     img = image.img_to_array(img)\n",
    "#     img = img / 255.0\n",
    "#     train_image.append(img)\n",
    "#     count=count+1\n",
    "#     print(count)\n",
    "\n",
    "# X = np.array(train_image)"
   ]
  },
  {
   "cell_type": "code",
   "execution_count": 3,
   "id": "83524e15",
   "metadata": {},
   "outputs": [],
   "source": [
    "# for img in train_image:\n",
    "#     print(img.shape)"
   ]
  },
  {
   "cell_type": "code",
   "execution_count": 16,
   "id": "abe283cc",
   "metadata": {},
   "outputs": [],
   "source": [
    "train_image=np.load('X_data.npy')"
   ]
  },
  {
   "cell_type": "code",
   "execution_count": 17,
   "id": "7fceb9db",
   "metadata": {},
   "outputs": [],
   "source": [
    "import cv2\n",
    "train_image_resized = []\n",
    "for img in train_image:\n",
    "    if img.shape == (300, 300, 4):\n",
    "        img = cv2.cvtColor(img, cv2.COLOR_RGBA2RGB)\n",
    "    img = cv2.resize(img, (300, 300))\n",
    "    train_image_resized.append(img)\n",
    "\n",
    "X = np.array(train_image_resized)"
   ]
  },
  {
   "cell_type": "code",
   "execution_count": 57,
   "id": "ac3776cd",
   "metadata": {},
   "outputs": [],
   "source": [
    "#flat_train = train_image.reshape(-1, train_image.shape[-1])\n",
    "\n",
    "# np.save('X_data.npy', X)"
   ]
  },
  {
   "cell_type": "code",
   "execution_count": 59,
   "id": "f0e01757",
   "metadata": {},
   "outputs": [],
   "source": [
    "# # load array\n",
    "# dt = np.load('X_data.npy')\n",
    "# dt"
   ]
  },
  {
   "cell_type": "code",
   "execution_count": 33,
   "id": "2c1d7f97",
   "metadata": {},
   "outputs": [
    {
     "data": {
      "text/plain": [
       "0         Actiniaria\n",
       "1         Actinernus\n",
       "2         Actiniidae\n",
       "3      Actinoscyphia\n",
       "4           Bolocera\n",
       "           ...      \n",
       "285       Polychaeta\n",
       "286       Polynoidae\n",
       "287       Sabellidae\n",
       "288       Serpulidae\n",
       "289     Terebellidae\n",
       "Name: name, Length: 290, dtype: object"
      ]
     },
     "execution_count": 33,
     "metadata": {},
     "output_type": "execute_result"
    }
   ],
   "source": [
    "classes=df_categ['name']\n",
    "classes"
   ]
  },
  {
   "cell_type": "code",
   "execution_count": 34,
   "id": "2d3addfc",
   "metadata": {},
   "outputs": [
    {
     "data": {
      "text/plain": [
       "0                          [1.0]\n",
       "1                          [1.0]\n",
       "2                          [1.0]\n",
       "3         [1.0, 9.0, 11.0, 88.0]\n",
       "4       [1.0, 37.0, 51.0, 119.0]\n",
       "                  ...           \n",
       "998                       [37.0]\n",
       "999                       [37.0]\n",
       "1000                      [37.0]\n",
       "1001                      [37.0]\n",
       "1002                      [37.0]\n",
       "Name: categories, Length: 1003, dtype: object"
      ]
     },
     "execution_count": 34,
     "metadata": {},
     "output_type": "execute_result"
    }
   ],
   "source": [
    "y=df_train['categories'][:1003]\n",
    "y"
   ]
  },
  {
   "cell_type": "code",
   "execution_count": 35,
   "id": "e4ce7ba3",
   "metadata": {},
   "outputs": [
    {
     "data": {
      "text/plain": [
       "0                          [1.0]\n",
       "1                          [1.0]\n",
       "2                          [1.0]\n",
       "3         [1.0, 9.0, 11.0, 88.0]\n",
       "4       [1.0, 37.0, 51.0, 119.0]\n",
       "                  ...           \n",
       "998                       [37.0]\n",
       "999                       [37.0]\n",
       "1000                      [37.0]\n",
       "1001                      [37.0]\n",
       "1002                      [37.0]\n",
       "Name: categories, Length: 1003, dtype: object"
      ]
     },
     "execution_count": 35,
     "metadata": {},
     "output_type": "execute_result"
    }
   ],
   "source": [
    "y = y.apply(literal_eval)\n",
    "y"
   ]
  },
  {
   "cell_type": "code",
   "execution_count": 36,
   "id": "cafdb817",
   "metadata": {},
   "outputs": [
    {
     "data": {
      "text/plain": [
       "array([[ 1,  0,  0, ...,  0,  0,  0],\n",
       "       [ 1,  0,  0, ...,  0,  0,  0],\n",
       "       [ 1,  0,  0, ...,  0,  0,  0],\n",
       "       ...,\n",
       "       [37,  0,  0, ...,  0,  0,  0],\n",
       "       [37,  0,  0, ...,  0,  0,  0],\n",
       "       [37,  0,  0, ...,  0,  0,  0]])"
      ]
     },
     "execution_count": 36,
     "metadata": {},
     "output_type": "execute_result"
    }
   ],
   "source": [
    "max_length = max(len(x) for x in y)\n",
    "max_length\n",
    "\n",
    "padded_sequences = pad_sequences(y, maxlen=max_length, padding='post', value=0.0)\n",
    "padded_sequences"
   ]
  },
  {
   "cell_type": "code",
   "execution_count": 37,
   "id": "f6728676",
   "metadata": {},
   "outputs": [
    {
     "data": {
      "text/plain": [
       "array([[ 1,  0,  0, ...,  0,  0,  0],\n",
       "       [ 1,  0,  0, ...,  0,  0,  0],\n",
       "       [ 1,  0,  0, ...,  0,  0,  0],\n",
       "       ...,\n",
       "       [37,  0,  0, ...,  0,  0,  0],\n",
       "       [37,  0,  0, ...,  0,  0,  0],\n",
       "       [37,  0,  0, ...,  0,  0,  0]])"
      ]
     },
     "execution_count": 37,
     "metadata": {},
     "output_type": "execute_result"
    }
   ],
   "source": [
    "y = np.array(padded_sequences)\n",
    "y"
   ]
  },
  {
   "cell_type": "code",
   "execution_count": 38,
   "id": "9256a59a",
   "metadata": {},
   "outputs": [
    {
     "data": {
      "text/plain": [
       "array([1, 0, 0, ..., 0, 0, 0])"
      ]
     },
     "execution_count": 38,
     "metadata": {},
     "output_type": "execute_result"
    }
   ],
   "source": [
    "y = y.reshape(-1,)\n",
    "y"
   ]
  },
  {
   "cell_type": "code",
   "execution_count": 39,
   "id": "7f474f9e",
   "metadata": {},
   "outputs": [
    {
     "data": {
      "text/plain": [
       "10030"
      ]
     },
     "execution_count": 39,
     "metadata": {},
     "output_type": "execute_result"
    }
   ],
   "source": [
    "len(y)"
   ]
  },
  {
   "cell_type": "code",
   "execution_count": 40,
   "id": "6fb3a4ea",
   "metadata": {},
   "outputs": [],
   "source": [
    "from sklearn.model_selection import train_test_split\n",
    "\n",
    "X_train,X_test,y_train,y_test=train_test_split(X,y[:1003],test_size=0.15)"
   ]
  },
  {
   "cell_type": "code",
   "execution_count": 48,
   "id": "15d594af",
   "metadata": {},
   "outputs": [],
   "source": [
    "cnn = models.Sequential([\n",
    "    layers.Conv2D(filters=32, kernel_size=(3, 3), activation='relu', input_shape=(300, 300, 3)),\n",
    "    layers.MaxPooling2D((2, 2)),\n",
    "    \n",
    "    layers.Conv2D(filters=64, kernel_size=(3, 3), activation='relu'),\n",
    "    layers.MaxPooling2D((2, 2)),\n",
    "    \n",
    "    layers.Flatten(),\n",
    "    layers.Dense(64, activation='relu'),\n",
    "    layers.Dense(260, activation='softmax')\n",
    "])"
   ]
  },
  {
   "cell_type": "code",
   "execution_count": 49,
   "id": "df7e5314",
   "metadata": {},
   "outputs": [],
   "source": [
    "cnn.compile(optimizer='adam',\n",
    "              loss='SparseCategoricalCrossentropy',\n",
    "              metrics=['accuracy'])"
   ]
  },
  {
   "cell_type": "code",
   "execution_count": 50,
   "id": "eba80529",
   "metadata": {},
   "outputs": [
    {
     "name": "stdout",
     "output_type": "stream",
     "text": [
      "Epoch 1/5\n",
      "27/27 [==============================] - 81s 3s/step - loss: 2.6100 - accuracy: 0.6538\n",
      "Epoch 2/5\n",
      "27/27 [==============================] - 71s 3s/step - loss: 1.8238 - accuracy: 0.6761\n",
      "Epoch 3/5\n",
      "27/27 [==============================] - 73s 3s/step - loss: 1.6525 - accuracy: 0.6772\n",
      "Epoch 4/5\n",
      "27/27 [==============================] - 71s 3s/step - loss: 1.5932 - accuracy: 0.6784\n",
      "Epoch 5/5\n",
      "27/27 [==============================] - 70s 3s/step - loss: 1.5223 - accuracy: 0.6819\n"
     ]
    },
    {
     "data": {
      "text/plain": [
       "<keras.callbacks.History at 0x2bd75dcae50>"
      ]
     },
     "execution_count": 50,
     "metadata": {},
     "output_type": "execute_result"
    }
   ],
   "source": [
    "cnn.fit(X_train, y_train, epochs=5)"
   ]
  },
  {
   "cell_type": "code",
   "execution_count": 51,
   "id": "654758d4",
   "metadata": {},
   "outputs": [
    {
     "name": "stdout",
     "output_type": "stream",
     "text": [
      "5/5 [==============================] - 9s 658ms/step - loss: 1.5465 - accuracy: 0.6689\n"
     ]
    },
    {
     "data": {
      "text/plain": [
       "[1.546520709991455, 0.6688741445541382]"
      ]
     },
     "execution_count": 51,
     "metadata": {},
     "output_type": "execute_result"
    }
   ],
   "source": [
    "cnn.evaluate(X_test,y_test)"
   ]
  },
  {
   "cell_type": "code",
   "execution_count": 52,
   "id": "9855978d",
   "metadata": {},
   "outputs": [
    {
     "name": "stdout",
     "output_type": "stream",
     "text": [
      "5/5 [==============================] - 3s 640ms/step\n"
     ]
    },
    {
     "data": {
      "text/plain": [
       "array([[6.2893027e-01, 1.1776523e-01, 1.9342941e-05, ..., 7.4650316e-06,\n",
       "        2.4982353e-05, 1.2438842e-05],\n",
       "       [7.9009205e-01, 8.2862630e-02, 2.2067888e-06, ..., 3.5302492e-07,\n",
       "        4.9383339e-06, 8.5031672e-07],\n",
       "       [7.0935416e-01, 1.0114742e-01, 8.4113253e-06, ..., 2.8796812e-06,\n",
       "        1.4953966e-05, 5.5215446e-06],\n",
       "       [7.2544414e-01, 1.0556941e-01, 5.3417962e-06, ..., 1.4604523e-06,\n",
       "        8.6893497e-06, 3.5234227e-06],\n",
       "       [7.8706640e-01, 1.3335770e-01, 4.1273611e-07, ..., 6.2932855e-08,\n",
       "        5.3205974e-07, 2.2049782e-07]], dtype=float32)"
      ]
     },
     "execution_count": 52,
     "metadata": {},
     "output_type": "execute_result"
    }
   ],
   "source": [
    "y_pred = cnn.predict(X_test)\n",
    "y_pred[:5]"
   ]
  },
  {
   "cell_type": "code",
   "execution_count": 53,
   "id": "e4203d4b",
   "metadata": {},
   "outputs": [
    {
     "data": {
      "text/plain": [
       "[0, 0, 0, 0, 0]"
      ]
     },
     "execution_count": 53,
     "metadata": {},
     "output_type": "execute_result"
    }
   ],
   "source": [
    "y_classes = [np.argmax(element) for element in y_pred]\n",
    "y_classes[:5]"
   ]
  },
  {
   "cell_type": "code",
   "execution_count": 54,
   "id": "cb81e8bf",
   "metadata": {},
   "outputs": [],
   "source": [
    "def plot_sample(X, y, index):\n",
    "    plt.figure(figsize = (15,2))\n",
    "    plt.imshow(X[index])\n",
    "    plt.xlabel(classes[y[index]])"
   ]
  },
  {
   "cell_type": "code",
   "execution_count": 60,
   "id": "f0857601",
   "metadata": {},
   "outputs": [
    {
     "name": "stdout",
     "output_type": "stream",
     "text": [
      "Actual Value\n"
     ]
    },
    {
     "data": {
      "image/png": "[encoded data removed]",
      "text/plain": [
       "<Figure size 1500x200 with 1 Axes>"
      ]
     },
     "metadata": {},
     "output_type": "display_data"
    }
   ],
   "source": [
    "print('Actual Value')\n",
    "plot_sample(X_test, y_test,50)"
   ]
  },
  {
   "cell_type": "code",
   "execution_count": 61,
   "id": "e32ac681",
   "metadata": {},
   "outputs": [
    {
     "name": "stdout",
     "output_type": "stream",
     "text": [
      "Predicted Value-\n"
     ]
    },
    {
     "data": {
      "text/plain": [
       "'Actiniaria'"
      ]
     },
     "execution_count": 61,
     "metadata": {},
     "output_type": "execute_result"
    }
   ],
   "source": [
    "print('Predicted Value-')\n",
    "classes[y_classes[50]]"
   ]
  },
  {
   "cell_type": "code",
   "execution_count": 62,
   "id": "15cc7d87",
   "metadata": {},
   "outputs": [
    {
     "name": "stdout",
     "output_type": "stream",
     "text": [
      "Classification Report: \n",
      "               precision    recall  f1-score   support\n",
      "\n",
      "           0       0.67      1.00      0.80       101\n",
      "           1       0.00      0.00      0.00        19\n",
      "           9       0.00      0.00      0.00         4\n",
      "          10       0.00      0.00      0.00         1\n",
      "          37       0.00      0.00      0.00         1\n",
      "          52       0.00      0.00      0.00         4\n",
      "          81       0.00      0.00      0.00         1\n",
      "          88       0.00      0.00      0.00         3\n",
      "         100       0.00      0.00      0.00         1\n",
      "         105       0.00      0.00      0.00         1\n",
      "         119       0.00      0.00      0.00         2\n",
      "         125       0.00      0.00      0.00         1\n",
      "         160       0.00      0.00      0.00         6\n",
      "         174       0.00      0.00      0.00         1\n",
      "         203       0.00      0.00      0.00         1\n",
      "         219       0.00      0.00      0.00         1\n",
      "         224       0.00      0.00      0.00         1\n",
      "         242       0.00      0.00      0.00         2\n",
      "\n",
      "    accuracy                           0.67       151\n",
      "   macro avg       0.04      0.06      0.04       151\n",
      "weighted avg       0.45      0.67      0.54       151\n",
      "\n"
     ]
    },
    {
     "name": "stderr",
     "output_type": "stream",
     "text": [
      "E:\\ML_code\\env\\Lib\\site-packages\\sklearn\\metrics\\_classification.py:1344: UndefinedMetricWarning: Precision and F-score are ill-defined and being set to 0.0 in labels with no predicted samples. Use `zero_division` parameter to control this behavior.\n",
      "  _warn_prf(average, modifier, msg_start, len(result))\n",
      "E:\\ML_code\\env\\Lib\\site-packages\\sklearn\\metrics\\_classification.py:1344: UndefinedMetricWarning: Precision and F-score are ill-defined and being set to 0.0 in labels with no predicted samples. Use `zero_division` parameter to control this behavior.\n",
      "  _warn_prf(average, modifier, msg_start, len(result))\n",
      "E:\\ML_code\\env\\Lib\\site-packages\\sklearn\\metrics\\_classification.py:1344: UndefinedMetricWarning: Precision and F-score are ill-defined and being set to 0.0 in labels with no predicted samples. Use `zero_division` parameter to control this behavior.\n",
      "  _warn_prf(average, modifier, msg_start, len(result))\n"
     ]
    }
   ],
   "source": [
    "from sklearn.metrics import confusion_matrix , classification_report\n",
    "\n",
    "print(\"Classification Report: \\n\", classification_report(y_test, y_classes))"
   ]
  },
  {
   "cell_type": "code",
   "execution_count": null,
   "id": "0d9ae333",
   "metadata": {},
   "outputs": [],
   "source": [
    "df_train_annots = pd.json_normalize(dict_train['annotations'])\n",
    "# show preview\n",
    "df_train_annots.drop(['segmentation','iscrowd'], axis=1, inplace=True)\n",
    "df_train_annots.head(10)"
   ]
  },
  {
   "cell_type": "code",
   "execution_count": null,
   "id": "509e71f9",
   "metadata": {},
   "outputs": [],
   "source": [
    "df_train_annots[df_train_annots.area==0]"
   ]
  },
  {
   "cell_type": "code",
   "execution_count": null,
   "id": "617b4704",
   "metadata": {},
   "outputs": [],
   "source": [
    "df_train_labels = df_train_images.merge(right=df_train, how='left',\n",
    "                                             left_on='id_file', right_on='id')\n",
    "# remove redundancies\n",
    "df_train_labels.drop(['id_y'], axis=1, inplace=True)\n",
    "# rename id column\n",
    "df_train_labels.rename(columns={'id_x':'image_id'}, inplace=True)\n",
    "# show preview of complete table\n",
    "df_train_labels.dropna(inplace=True)\n",
    "df_train_labels.head(5)"
   ]
  },
  {
   "cell_type": "code",
   "execution_count": null,
   "id": "8eee235c",
   "metadata": {},
   "outputs": [],
   "source": [
    "# dfx=pd.get_dummies(df_train_labels['categories'],)\n",
    "# dfx"
   ]
  },
  {
   "cell_type": "code",
   "execution_count": null,
   "id": "6821bd2a",
   "metadata": {},
   "outputs": [],
   "source": [
    "my_row = 3\n",
    "my_url = df_train_labels.coco_url[my_row]\n",
    "my_url"
   ]
  },
  {
   "cell_type": "code",
   "execution_count": null,
   "id": "282c34b1",
   "metadata": {},
   "outputs": [],
   "source": [
    "response = requests.get(my_url)\n",
    "my_img_train = Image.open(BytesIO(response.content))\n",
    "my_img_train"
   ]
  },
  {
   "cell_type": "code",
   "execution_count": null,
   "id": "64fb034f",
   "metadata": {},
   "outputs": [],
   "source": [
    "my_annots = df_train_labels.categories[my_row]\n",
    "# convert from string to actual list\n",
    "# my_annots = [float(x) for x in my_annots.split()]\n",
    "my_annots"
   ]
  },
  {
   "cell_type": "code",
   "execution_count": null,
   "id": "66e5219c",
   "metadata": {},
   "outputs": [],
   "source": [
    "# df_categ[df_categ.id.isin(my_annots)]"
   ]
  },
  {
   "cell_type": "code",
   "execution_count": null,
   "id": "bb5cba90",
   "metadata": {},
   "outputs": [],
   "source": [
    "# df_train_annots[df_train_annots.image_id == df_train_labels.image_id[my_row]]"
   ]
  },
  {
   "cell_type": "code",
   "execution_count": 60,
   "id": "72a1356c",
   "metadata": {},
   "outputs": [],
   "source": [
    "f = open('Data/object_detection/eval.json')\n",
    "dict_eval = json.load(f)"
   ]
  },
  {
   "cell_type": "code",
   "execution_count": 61,
   "id": "4198ffe8",
   "metadata": {},
   "outputs": [
    {
     "data": {
      "text/html": [
       "<div>\n",
       "<style scoped>\n",
       "    .dataframe tbody tr th:only-of-type {\n",
       "        vertical-align: middle;\n",
       "    }\n",
       "\n",
       "    .dataframe tbody tr th {\n",
       "        vertical-align: top;\n",
       "    }\n",
       "\n",
       "    .dataframe thead th {\n",
       "        text-align: right;\n",
       "    }\n",
       "</style>\n",
       "<table border=\"1\" class=\"dataframe\">\n",
       "  <thead>\n",
       "    <tr style=\"text-align: right;\">\n",
       "      <th></th>\n",
       "      <th>id</th>\n",
       "      <th>width</th>\n",
       "      <th>height</th>\n",
       "      <th>file_name</th>\n",
       "      <th>flickr_url</th>\n",
       "      <th>coco_url</th>\n",
       "      <th>date_captured</th>\n",
       "      <th>id_file</th>\n",
       "    </tr>\n",
       "  </thead>\n",
       "  <tbody>\n",
       "    <tr>\n",
       "      <th>0</th>\n",
       "      <td>1</td>\n",
       "      <td>1920</td>\n",
       "      <td>1079</td>\n",
       "      <td>4172b65a-8b4f-4175-94e4-00187e2d5f33.png</td>\n",
       "      <td>https://fathomnet.org/static/m3/framegrabs/Min...</td>\n",
       "      <td>https://fathomnet.org/static/m3/framegrabs/Min...</td>\n",
       "      <td>2019-09-24 12:11:05</td>\n",
       "      <td>4172b65a-8b4f-4175-94e4-00187e2d5f33</td>\n",
       "    </tr>\n",
       "    <tr>\n",
       "      <th>1</th>\n",
       "      <td>2</td>\n",
       "      <td>713</td>\n",
       "      <td>425</td>\n",
       "      <td>9d263fd4-f786-42bf-8e0c-2d5be7c81b49.png</td>\n",
       "      <td>https://fathomnet.org/static/m3/framegrabs/Ven...</td>\n",
       "      <td>https://fathomnet.org/static/m3/framegrabs/Ven...</td>\n",
       "      <td>2007-08-15 18:44:36</td>\n",
       "      <td>9d263fd4-f786-42bf-8e0c-2d5be7c81b49</td>\n",
       "    </tr>\n",
       "    <tr>\n",
       "      <th>2</th>\n",
       "      <td>3</td>\n",
       "      <td>720</td>\n",
       "      <td>368</td>\n",
       "      <td>c114ccb9-cf89-4d98-807b-f8636477c6ca.png</td>\n",
       "      <td>https://fathomnet.org/static/m3/framegrabs/Tib...</td>\n",
       "      <td>https://fathomnet.org/static/m3/framegrabs/Tib...</td>\n",
       "      <td>2007-09-08 14:41:18</td>\n",
       "      <td>c114ccb9-cf89-4d98-807b-f8636477c6ca</td>\n",
       "    </tr>\n",
       "    <tr>\n",
       "      <th>3</th>\n",
       "      <td>4</td>\n",
       "      <td>718</td>\n",
       "      <td>365</td>\n",
       "      <td>95ba3acc-859b-4a99-8c30-b38a91a1be28.png</td>\n",
       "      <td>https://fathomnet.org/static/m3/framegrabs/Ven...</td>\n",
       "      <td>https://fathomnet.org/static/m3/framegrabs/Ven...</td>\n",
       "      <td>2007-11-07 18:52:01</td>\n",
       "      <td>95ba3acc-859b-4a99-8c30-b38a91a1be28</td>\n",
       "    </tr>\n",
       "    <tr>\n",
       "      <th>4</th>\n",
       "      <td>5</td>\n",
       "      <td>720</td>\n",
       "      <td>368</td>\n",
       "      <td>0c4bdb90-c715-4c01-81d1-aa7f49534ac7.png</td>\n",
       "      <td>https://fathomnet.org/static/m3/framegrabs/Ven...</td>\n",
       "      <td>https://fathomnet.org/static/m3/framegrabs/Ven...</td>\n",
       "      <td>2007-12-06 20:00:00</td>\n",
       "      <td>0c4bdb90-c715-4c01-81d1-aa7f49534ac7</td>\n",
       "    </tr>\n",
       "  </tbody>\n",
       "</table>\n",
       "</div>"
      ],
      "text/plain": [
       "   id  width  height                                 file_name   \n",
       "0   1   1920    1079  4172b65a-8b4f-4175-94e4-00187e2d5f33.png  \\\n",
       "1   2    713     425  9d263fd4-f786-42bf-8e0c-2d5be7c81b49.png   \n",
       "2   3    720     368  c114ccb9-cf89-4d98-807b-f8636477c6ca.png   \n",
       "3   4    718     365  95ba3acc-859b-4a99-8c30-b38a91a1be28.png   \n",
       "4   5    720     368  0c4bdb90-c715-4c01-81d1-aa7f49534ac7.png   \n",
       "\n",
       "                                          flickr_url   \n",
       "0  https://fathomnet.org/static/m3/framegrabs/Min...  \\\n",
       "1  https://fathomnet.org/static/m3/framegrabs/Ven...   \n",
       "2  https://fathomnet.org/static/m3/framegrabs/Tib...   \n",
       "3  https://fathomnet.org/static/m3/framegrabs/Ven...   \n",
       "4  https://fathomnet.org/static/m3/framegrabs/Ven...   \n",
       "\n",
       "                                            coco_url        date_captured   \n",
       "0  https://fathomnet.org/static/m3/framegrabs/Min...  2019-09-24 12:11:05  \\\n",
       "1  https://fathomnet.org/static/m3/framegrabs/Ven...  2007-08-15 18:44:36   \n",
       "2  https://fathomnet.org/static/m3/framegrabs/Tib...  2007-09-08 14:41:18   \n",
       "3  https://fathomnet.org/static/m3/framegrabs/Ven...  2007-11-07 18:52:01   \n",
       "4  https://fathomnet.org/static/m3/framegrabs/Ven...  2007-12-06 20:00:00   \n",
       "\n",
       "                                id_file  \n",
       "0  4172b65a-8b4f-4175-94e4-00187e2d5f33  \n",
       "1  9d263fd4-f786-42bf-8e0c-2d5be7c81b49  \n",
       "2  c114ccb9-cf89-4d98-807b-f8636477c6ca  \n",
       "3  95ba3acc-859b-4a99-8c30-b38a91a1be28  \n",
       "4  0c4bdb90-c715-4c01-81d1-aa7f49534ac7  "
      ]
     },
     "execution_count": 61,
     "metadata": {},
     "output_type": "execute_result"
    }
   ],
   "source": [
    "df_eval_images = pd.json_normalize(dict_eval['images'])\n",
    "# we can remove \"license\" as this is always 0\n",
    "df_eval_images.drop(['license'], axis=1, inplace=True)\n",
    "# again add file name based id\n",
    "df_eval_images['id_file'] = df_eval_images.file_name.apply(drop_suffix)\n",
    "# show preview\n",
    "df_eval_images.head(5)"
   ]
  },
  {
   "cell_type": "code",
   "execution_count": null,
   "id": "d2965720",
   "metadata": {},
   "outputs": [],
   "source": [
    "most_common = df_train_labels['categories'].mode()[0].replace('.0','')\n",
    "#most_common = [float(x) for x in most_common.split()]\n",
    "most_common"
   ]
  },
  {
   "cell_type": "code",
   "execution_count": null,
   "id": "e87e9a33",
   "metadata": {},
   "outputs": [],
   "source": [
    "ls=[1.0, 9.0, 11.0, 88.0]"
   ]
  },
  {
   "cell_type": "code",
   "execution_count": null,
   "id": "125a6268",
   "metadata": {},
   "outputs": [],
   "source": [
    "# for i in range(len(df_eval_images)):\n",
    "#     row = df_train_labels.sample(n=1).iloc[0]  # randomly sample one row from df1\n",
    "#     df_eval_images.loc[i, 'categories'] = row['categories']  # assign the value to Column1 in df2"
   ]
  },
  {
   "cell_type": "code",
   "execution_count": null,
   "id": "d6a9702b",
   "metadata": {},
   "outputs": [],
   "source": [
    "df_eval_images['categories']='[1.0, 9.0, 11.0, 88.0]'\n",
    "df_eval_images['osd']=np.round(np.random.uniform(low=0.1, high=0.9,size=(10744,1)),1)\n",
    "df_eval_images"
   ]
  },
  {
   "cell_type": "code",
   "execution_count": null,
   "id": "2741ec46",
   "metadata": {},
   "outputs": [],
   "source": [
    "set(df_eval_images['osd'])"
   ]
  },
  {
   "cell_type": "code",
   "execution_count": null,
   "id": "74085cd6",
   "metadata": {},
   "outputs": [],
   "source": [
    "df_eval_images[['id_file','categories','osd']].to_csv('submission.csv',index=None)"
   ]
  },
  {
   "cell_type": "code",
   "execution_count": null,
   "id": "71628ac7",
   "metadata": {},
   "outputs": [],
   "source": [
    "dfx=pd.read_csv('Data/sample_submission.csv')\n",
    "dfx"
   ]
  },
  {
   "cell_type": "code",
   "execution_count": null,
   "id": "ad0d4808",
   "metadata": {},
   "outputs": [],
   "source": [
    "code=[0,1]\n",
    "if code[1]==0:\n",
    "    print('Hello Kaggle')\n",
    "else:\n",
    "    print('He Mia')"
   ]
  },
  {
   "cell_type": "code",
   "execution_count": null,
   "id": "ed3c73dc",
   "metadata": {},
   "outputs": [],
   "source": [
    "code[0]"
   ]
  },
  {
   "cell_type": "code",
   "execution_count": null,
   "id": "a3153a26",
   "metadata": {},
   "outputs": [],
   "source": [
    "def draw_rectangle(image, xy, color='red'):\n",
    "    img = ImageDraw.Draw(image) \n",
    "    img.rectangle(xy, outline=color, width=5)\n",
    "    return image\n",
    "\n",
    "def download_image_by_url(url):\n",
    "    with urllib.request.urlopen(url) as u:\n",
    "        img = Image.open(u)\n",
    "        u.close()\n",
    "    return img\n",
    "\n",
    "def download_image_by_id(data, image_id, url_type='coco_url'):\n",
    "    url = data.loc[image_id][url_type]\n",
    "    return download_image_by_url(url)"
   ]
  },
  {
   "cell_type": "code",
   "execution_count": null,
   "id": "fc318dc9",
   "metadata": {},
   "outputs": [],
   "source": [
    "fig, axes = plt.subplots(nrows=4, ncols=4, figsize=(20, 10))\n",
    "\n",
    "image_ids = df_train_images.sample(n=16).index\n",
    "for image_id, ax in zip(image_ids, axes.flatten()):\n",
    "    \n",
    "    # Load image\n",
    "    image = download_image_by_id(df_train_images, image_id)\n",
    "\n",
    "    # Get box coordinates\n",
    "    bboxes = df_train_annots[df_train_annots['image_id'] == image_id]['bbox'].values\n",
    "\n",
    "    # Draw boxes\n",
    "    for coor in bboxes:\n",
    "        (x1, y1), (x2, y2) = (coor[0], coor[1]), (coor[0] + coor[2], coor[1] + coor[3])\n",
    "        draw_rectangle(image, xy=((x1, y1), (x2, y2)))\n",
    "    \n",
    "    ax.imshow(image)\n",
    "    \n",
    "    ax.get_xaxis().set_visible(False)\n",
    "    ax.get_yaxis().set_visible(False)    \n",
    "    \n",
    "fig.tight_layout()\n",
    "plt.show()"
   ]
  },
  {
   "cell_type": "code",
   "execution_count": null,
   "id": "d1f603bd",
   "metadata": {},
   "outputs": [],
   "source": [
    "path = r'Data/img_eval/' # use your path\n",
    "pred_files = glob.glob(os.path.join(path, \"*.png\"))\n",
    "ls=[]\n",
    "for file in pred_files:\n",
    "    filename = os.path.splitext(os.path.basename(file))[0]\n",
    "    ls.append(filename)\n",
    "    df_ev_name=pd.DataFrame({'id':ls})"
   ]
  },
  {
   "cell_type": "code",
   "execution_count": null,
   "id": "2f8f0fc8",
   "metadata": {},
   "outputs": [],
   "source": [
    "import keras.utils as image\n",
    "\n",
    "train_image = []\n",
    "for i in tqdm(range(df_train.shape[0])):\n",
    "    img = image.load_img('Data/images/'+df_train['id'][i]+'.png',target_size=(400,400,3))\n",
    "    img = image.img_to_array(img)\n",
    "    img = img/255\n",
    "    train_image.append(img)\n",
    "X = np.array(train_image)"
   ]
  },
  {
   "cell_type": "code",
   "execution_count": null,
   "id": "f5a6ea26",
   "metadata": {},
   "outputs": [],
   "source": [
    "test_image = []\n",
    "for i in tqdm(range(df_ev_name.shape[0])):\n",
    "    img = image.load_img('Data/img_eval/'+df_ev_name['id'][i]+'.png',target_size=(400,400,3))\n",
    "    img = image.img_to_array(img)\n",
    "    img = img/255\n",
    "    test_image.append(img)\n",
    "y = np.array(test_image)"
   ]
  },
  {
   "cell_type": "code",
   "execution_count": null,
   "id": "a8341d4c",
   "metadata": {},
   "outputs": [],
   "source": [
    "X.shape"
   ]
  },
  {
   "cell_type": "code",
   "execution_count": null,
   "id": "ab07e551",
   "metadata": {},
   "outputs": [],
   "source": [
    "import numpy as np\n",
    "\n",
    "def preprocess_categories(category_ids, category_dict):\n",
    "    num_categories = len(category_dict)\n",
    "    categories = np.zeros(num_categories)\n",
    "    for category_id in category_ids:\n",
    "        if category_id in category_dict:\n",
    "            categories[category_id-1] = 1\n",
    "    return categories\n",
    "\n",
    "y_processed = np.array([preprocess_categories(ids, df_categ['name']) for ids in df_categ['name']])"
   ]
  },
  {
   "cell_type": "code",
   "execution_count": null,
   "id": "bbd4c7a3",
   "metadata": {},
   "outputs": [],
   "source": [
    "# apply function to each element of DataFrame\n",
    "df_train['categories'] = df_train['categories'].str.strip('[]')\n",
    "df_train['categories'] = df_train['categories'].str.replace(',','')"
   ]
  },
  {
   "cell_type": "code",
   "execution_count": null,
   "id": "7dc1e59c",
   "metadata": {},
   "outputs": [],
   "source": [
    "from sklearn.model_selection import train_test_split\n",
    "\n",
    "X_train, X_test, y_train, y_test = train_test_split(X, y_processed[:138], test_size=0.2)"
   ]
  },
  {
   "cell_type": "code",
   "execution_count": null,
   "id": "90d82957",
   "metadata": {},
   "outputs": [],
   "source": [
    "from keras.applications import VGG16\n",
    "\n",
    "base_model = VGG16(weights='imagenet', include_top=False, input_shape=(400, 400, 3))"
   ]
  },
  {
   "cell_type": "code",
   "execution_count": null,
   "id": "65b03db1",
   "metadata": {},
   "outputs": [],
   "source": [
    "from keras.models import Model\n",
    "from keras.layers import Flatten, Dense\n",
    "\n",
    "x = base_model.output\n",
    "x = Flatten()(x)\n",
    "predictions = Dense(len(df_categ['name']), activation='sigmoid')(x)\n",
    "\n",
    "model = Model(inputs=base_model.input, outputs=predictions)"
   ]
  },
  {
   "cell_type": "code",
   "execution_count": null,
   "id": "fb51c4b6",
   "metadata": {},
   "outputs": [],
   "source": [
    "model.predict(df_test)"
   ]
  },
  {
   "cell_type": "code",
   "execution_count": null,
   "id": "272dc78b",
   "metadata": {},
   "outputs": [],
   "source": [
    "for layer in base_model.layers:\n",
    "    layer.trainable = False"
   ]
  },
  {
   "cell_type": "code",
   "execution_count": null,
   "id": "010a631f",
   "metadata": {},
   "outputs": [],
   "source": [
    "model.compile(loss='binary_crossentropy', optimizer='adam', metrics=['accuracy'])"
   ]
  },
  {
   "cell_type": "code",
   "execution_count": null,
   "id": "d882ddd6",
   "metadata": {},
   "outputs": [],
   "source": [
    "model.fit(X_train, y_train, batch_size=32, epochs=10, validation_data=(X_test, y_test))"
   ]
  },
  {
   "cell_type": "code",
   "execution_count": null,
   "id": "277328b3",
   "metadata": {},
   "outputs": [],
   "source": [
    "from sklearn.metrics import classification_report, confusion_matrix\n",
    "\n",
    "y_pred = model.predict(X_test)\n",
    "y_pred = (y_pred > 0.5)\n",
    "\n",
    "print(classification_report(y_test, y_pred))\n",
    "print(confusion_matrix(y_test.argmax(axis=1), y_pred.argmax(axis=1)))"
   ]
  },
  {
   "cell_type": "code",
   "execution_count": null,
   "id": "cb454f32",
   "metadata": {},
   "outputs": [],
   "source": [
    "model = Sequential()\n",
    "model.add(Conv2D(filters=16, kernel_size=(5, 5), activation=\"relu\", input_shape=(400,400,3)))\n",
    "model.add(MaxPooling2D(pool_size=(2, 2)))\n",
    "model.add(Dropout(0.25))\n",
    "model.add(Conv2D(filters=32, kernel_size=(5, 5), activation='relu'))\n",
    "model.add(MaxPooling2D(pool_size=(2, 2)))\n",
    "model.add(Dropout(0.25))\n",
    "model.add(Conv2D(filters=64, kernel_size=(5, 5), activation=\"relu\"))\n",
    "model.add(MaxPooling2D(pool_size=(2, 2)))\n",
    "model.add(Dropout(0.25))\n",
    "model.add(Conv2D(filters=64, kernel_size=(5, 5), activation='relu'))\n",
    "model.add(MaxPooling2D(pool_size=(2, 2)))\n",
    "model.add(Dropout(0.25))\n",
    "model.add(Flatten())\n",
    "model.add(Dense(128, activation='relu'))\n",
    "model.add(Dropout(0.5))\n",
    "model.add(Dense(64, activation='relu'))\n",
    "model.add(Dropout(0.5))\n",
    "model.add(Dense(25, activation='sigmoid'))"
   ]
  },
  {
   "cell_type": "code",
   "execution_count": null,
   "id": "32264ae5",
   "metadata": {},
   "outputs": [],
   "source": [
    "model.compile(optimizer='adam', loss='binary_crossentropy', metrics=['accuracy'])"
   ]
  },
  {
   "cell_type": "code",
   "execution_count": null,
   "id": "5eea9780",
   "metadata": {},
   "outputs": [],
   "source": [
    "model.fit(X_train, y_train, epochs=10, validation_data=(X_test, y_test), batch_size=64)"
   ]
  },
  {
   "cell_type": "code",
   "execution_count": null,
   "id": "8f8eec24",
   "metadata": {},
   "outputs": [],
   "source": [
    "X_train.shape"
   ]
  }
 ],
 "metadata": {
  "kernelspec": {
   "display_name": "Python 3 (ipykernel)",
   "language": "python",
   "name": "python3"
  },
  "language_info": {
   "codemirror_mode": {
    "name": "ipython",
    "version": 3
   },
   "file_extension": ".py",
   "mimetype": "text/x-python",
   "name": "python",
   "nbconvert_exporter": "python",
   "pygments_lexer": "ipython3",
   "version": "3.11.3"
  }
 },
 "nbformat": 4,
 "nbformat_minor": 5
}
